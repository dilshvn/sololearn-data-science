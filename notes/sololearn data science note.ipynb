{
 "cells": [
  {
   "cell_type": "markdown",
   "metadata": {},
   "source": [
    "# Sololearn: Data Science\n",
    "Whatever the type of input data is, it's converted to arrays of numbers. <br>\n",
    "Let's analyze the heights of US presidents\n"
   ]
  },
  {
   "cell_type": "code",
   "execution_count": 1,
   "metadata": {},
   "outputs": [
    {
     "name": "stdout",
     "output_type": "stream",
     "text": [
      "5\n"
     ]
    }
   ],
   "source": [
    "heights = [189, 170, 189, 163, 183, 171, 185, 168, 173, 183, 173, 173, 175, 178, 183, 193, 178, 173, 174, 183, 183, 180, 168, 180, 170, 178, 182, 180, 183, 178, 182, 188, 175, 179, 183, 193, 182, 183, 177, 185, 188, 188, 182, 185, 191]\n",
    "\n",
    "cnt = 0\n",
    "for height in heights:\n",
    "    if height > 188:\n",
    "        cnt +=1\n",
    "print(cnt)"
   ]
  },
  {
   "cell_type": "markdown",
   "metadata": {},
   "source": [
    "Here, there are 5 presidents that are taller than 188cm. \n",
    "### NumPy (Numerical Python)"
   ]
  },
  {
   "cell_type": "code",
   "execution_count": 2,
   "metadata": {},
   "outputs": [
    {
     "name": "stdout",
     "output_type": "stream",
     "text": [
      "5\n"
     ]
    }
   ],
   "source": [
    "import numpy as np\n",
    "\n",
    "heights = [189, 170, 189, 163, 183, 171, 185, 168, 173, 183, 173, 173, 175, 178, 183, 193, 178, 173, 174, 183, 183, 180, 168, 180, 170, 178, 182, 180, 183, 178, 182, 188, 175, 179, 183, 193, 182, 183, 177, 185, 188, 188, 182, 185, 191]\n",
    "\n",
    "heights_arr = np.array(heights)\n",
    "print((heights_arr > 188).sum())"
   ]
  },
  {
   "cell_type": "markdown",
   "metadata": {},
   "source": [
    "np.array() converts list to NumPy array. \n",
    "### Size and Shape"
   ]
  },
  {
   "cell_type": "markdown",
   "metadata": {},
   "source": [
    "Size is similar to len in lists"
   ]
  },
  {
   "cell_type": "code",
   "execution_count": 3,
   "metadata": {},
   "outputs": [
    {
     "name": "stdout",
     "output_type": "stream",
     "text": [
      "45\n"
     ]
    }
   ],
   "source": [
    "import numpy as np\n",
    "\n",
    "heights = [189, 170, 189, 163, 183, 171, 185, 168, 173, 183, 173, 173, 175, 178, 183, 193, 178, 173, 174, 183, 183, 180, 168, 180, 170, 178, 182, 180, 183, 178, 182, 188, 175, 179, 183, 193, 182, 183, 177, 185, 188, 188, 182, 185, 191]\n",
    "\n",
    "heights_arr = np.array(heights)\n",
    "print(heights_arr.size)"
   ]
  },
  {
   "cell_type": "markdown",
   "metadata": {},
   "source": [
    "Once an array is created in NumPy, it's size can't be changed. Size tells how big the array is, shape gives the dimension. "
   ]
  },
  {
   "cell_type": "code",
   "execution_count": 4,
   "metadata": {},
   "outputs": [
    {
     "name": "stdout",
     "output_type": "stream",
     "text": [
      "(45,)\n"
     ]
    }
   ],
   "source": [
    "import numpy as np\n",
    "\n",
    "heights = [189, 170, 189, 163, 183, 171, 185, 168, 173, 183, 173, 173, 175, 178, 183, 193, 178, 173, 174, 183, 183, 180, 168, 180, 170, 178, 182, 180, 183, 178, 182, 188, 175, 179, 183, 193, 182, 183, 177, 185, 188, 188, 182, 185, 191]\n",
    "\n",
    "heights_arr = np.array(heights)\n",
    "print(heights_arr.shape)"
   ]
  },
  {
   "cell_type": "markdown",
   "metadata": {},
   "source": [
    "The output of .shape is a tuple. Since it has a single value, there's only one dimension. Along axis 0, there are 45 elements. Therefore, heights_arr is a 1d array. "
   ]
  },
  {
   "cell_type": "markdown",
   "metadata": {},
   "source": [
    "### Reshape\n",
    "We can combine age data of these presidents\n"
   ]
  },
  {
   "cell_type": "code",
   "execution_count": 5,
   "metadata": {},
   "outputs": [
    {
     "name": "stdout",
     "output_type": "stream",
     "text": [
      "(90,)\n"
     ]
    }
   ],
   "source": [
    "import numpy as np\n",
    "\n",
    "heights = [189, 170, 189, 163, 183, 171, 185, 168, 173, 183, 173, 173, 175, 178, 183, 193, 178, 173, 174, 183, 183, 180, 168, 180, 170, 178, 182, 180, 183, 178, 182, 188, 175, 179, 183, 193, 182, 183, 177, 185, 188, 188, 182, 185, 191]\n",
    "\n",
    "ages = [57, 61, 57, 57, 58, 57, 61, 54, 68, 51, 49, 64, 50, 48, 65, 52, 56, 46, 54, 49, 51, 47, 55, 55, 54, 42, 51, 56, 55, 51, 54, 51, 60, 62, 43, 55, 56, 61, 52, 69, 64, 46, 54, 47, 70]\n",
    "\n",
    "heights_and_ages = heights + ages \n",
    "# convert a list to a numpy array\n",
    "heights_and_ages_arr = np.array(heights_and_ages)\n",
    "print(heights_and_ages_arr.shape)"
   ]
  },
  {
   "cell_type": "markdown",
   "metadata": {},
   "source": [
    "This is a 1 x 90 matrix. We could use a 2 x 45 matrix instead"
   ]
  },
  {
   "cell_type": "code",
   "execution_count": 10,
   "metadata": {},
   "outputs": [
    {
     "name": "stdout",
     "output_type": "stream",
     "text": [
      "[[189 170 189 163 183 171 185 168 173 183 173 173 175 178 183 193 178 173\n",
      "  174 183 183 180 168 180 170 178 182 180 183 178 182 188 175 179 183 193\n",
      "  182 183 177 185 188 188 182 185 191]\n",
      " [ 57  61  57  57  58  57  61  54  68  51  49  64  50  48  65  52  56  46\n",
      "   54  49  51  47  55  55  54  42  51  56  55  51  54  51  60  62  43  55\n",
      "   56  61  52  69  64  46  54  47  70]]\n"
     ]
    }
   ],
   "source": [
    "import numpy as np\n",
    "\n",
    "heights = [189, 170, 189, 163, 183, 171, 185, 168, 173, 183, 173, 173, 175, 178, 183, 193, 178, 173, 174, 183, 183, 180, 168, 180, 170, 178, 182, 180, 183, 178, 182, 188, 175, 179, 183, 193, 182, 183, 177, 185, 188, 188, 182, 185, 191]\n",
    "\n",
    "ages = [57, 61, 57, 57, 58, 57, 61, 54, 68, 51, 49, 64, 50, 48, 65, 52, 56, 46, 54, 49, 51, 47, 55, 55, 54, 42, 51, 56, 55, 51, 54, 51, 60, 62, 43, 55, 56, 61, 52, 69, 64, 46, 54, 47, 70]\n",
    "\n",
    "heights_and_ages = heights + ages \n",
    "# convert a list to a numpy array\n",
    "heights_and_ages_arr = np.array(heights_and_ages)\n",
    "print(heights_and_ages_arr.reshape((2,45)))"
   ]
  },
  {
   "cell_type": "markdown",
   "metadata": {},
   "source": [
    "This is now a 2d array but the size is still 90<br>\n",
    "We can put -1 if the dimension is unknown. For example, shape(12,) can be changed to (6, 2) using reshape(-1, 2)"
   ]
  },
  {
   "cell_type": "markdown",
   "metadata": {},
   "source": [
    "### Data Type\n",
    "Every element has to be the same type since NumPy arrays are homogeneous. Data type can be found as follows "
   ]
  },
  {
   "cell_type": "code",
   "execution_count": 11,
   "metadata": {},
   "outputs": [
    {
     "name": "stdout",
     "output_type": "stream",
     "text": [
      "int32\n"
     ]
    }
   ],
   "source": [
    "import numpy as np\n",
    "\n",
    "heights = [189, 170, 189, 163, 183, 171, 185, 168, 173, 183, 173, 173, 175, 178, 183, 193, 178, 173, 174, 183, 183, 180, 168, 180, 170, 178, 182, 180, 183, 178, 182, 188, 175, 179, 183, 193, 182, 183, 177, 185, 188, 188, 182, 185, 191]\n",
    "\n",
    "heights_arr = np.array(heights)\n",
    "print(heights_arr.dtype)"
   ]
  },
  {
   "cell_type": "markdown",
   "metadata": {},
   "source": [
    "If we put one float number here initially, every value will be float. "
   ]
  },
  {
   "cell_type": "code",
   "execution_count": 12,
   "metadata": {},
   "outputs": [
    {
     "name": "stdout",
     "output_type": "stream",
     "text": [
      "[189. 170. 189. 163. 183. 171. 185. 168. 173. 183. 173. 173. 175. 178.\n",
      " 183. 193. 178. 173. 174. 183. 183. 180. 168. 180. 170. 178. 182. 180.\n",
      " 183. 178. 182. 188. 175. 179. 183. 193. 182. 183. 177. 185. 188. 188.\n",
      " 182. 185. 191.]\n",
      "\n",
      "\n",
      "float64\n"
     ]
    }
   ],
   "source": [
    "import numpy as np\n",
    "\n",
    "heights_float = [189.0, 170, 189, 163, 183, 171, 185, 168, 173, 183, 173, 173, 175, 178, 183, 193, 178, 173, 174, 183, 183, 180, 168, 180, 170, 178, 182, 180, 183, 178, 182, 188, 175, 179, 183, 193, 182, 183, 177, 185, 188, 188, 182, 185, 191]\n",
    "\n",
    "heights_float_arr = np.array(heights_float)\n",
    "print(heights_float_arr)\n",
    "print(\"\\n\")\n",
    "print(heights_float_arr.dtype)"
   ]
  },
  {
   "cell_type": "markdown",
   "metadata": {},
   "source": [
    "### Indexing\n",
    "NumPy indexing starts from 0"
   ]
  },
  {
   "cell_type": "code",
   "execution_count": 13,
   "metadata": {},
   "outputs": [
    {
     "name": "stdout",
     "output_type": "stream",
     "text": [
      "189\n"
     ]
    }
   ],
   "source": [
    "import numpy as np\n",
    "\n",
    "heights = [189, 170, 189, 163, 183, 171, 185, 168, 173, 183, 173, 173, 175, 178, 183, 193, 178, 173, 174, 183, 183, 180, 168, 180, 170, 178, 182, 180, 183, 178, 182, 188, 175, 179, 183, 193, 182, 183, 177, 185, 188, 188, 182, 185, 191]\n",
    "\n",
    "heights_arr = np.array(heights)\n",
    "print(heights_arr[2])"
   ]
  },
  {
   "cell_type": "markdown",
   "metadata": {},
   "source": [
    "In 2d arrays, there are 2 axes"
   ]
  },
  {
   "cell_type": "code",
   "execution_count": 14,
   "metadata": {},
   "outputs": [
    {
     "name": "stdout",
     "output_type": "stream",
     "text": [
      "57\n"
     ]
    }
   ],
   "source": [
    "import numpy as np\n",
    "\n",
    "heights = [189, 170, 189, 163, 183, 171, 185, 168, 173, 183, 173, 173, 175, 178, 183, 193, 178, 173, 174, 183, 183, 180, 168, 180, 170, 178, 182, 180, 183, 178, 182, 188, 175, 179, 183, 193, 182, 183, 177, 185, 188, 188, 182, 185, 191]\n",
    "\n",
    "ages = [57, 61, 57, 57, 58, 57, 61, 54, 68, 51, 49, 64, 50, 48, 65, 52, 56, 46, 54, 49, 51, 47, 55, 55, 54, 42, 51, 56, 55, 51, 54, 51, 60, 62, 43, 55, 56, 61, 52, 69, 64, 46, 54, 47, 70]\n",
    "\n",
    "heights_and_ages = heights + ages\n",
    "heights_and_ages_arr = np.array(heights_and_ages)\n",
    "heights_and_ages_arr = heights_and_ages_arr.reshape((2,45))\n",
    "print(heights_and_ages_arr[1,2])"
   ]
  },
  {
   "cell_type": "markdown",
   "metadata": {},
   "source": [
    "### Slicing\n"
   ]
  },
  {
   "cell_type": "code",
   "execution_count": 15,
   "metadata": {},
   "outputs": [
    {
     "name": "stdout",
     "output_type": "stream",
     "text": [
      "[189 170 189]\n"
     ]
    }
   ],
   "source": [
    "import numpy as np\n",
    "\n",
    "heights = [189, 170, 189, 163, 183, 171, 185, 168, 173, 183, 173, 173, 175, 178, 183, 193, 178, 173, 174, 183, 183, 180, 168, 180, 170, 178, 182, 180, 183, 178, 182, 188, 175, 179, 183, 193, 182, 183, 177, 185, 188, 188, 182, 185, 191]\n",
    "\n",
    "ages = [57, 61, 57, 57, 58, 57, 61, 54, 68, 51, 49, 64, 50, 48, 65, 52, 56, 46, 54, 49, 51, 47, 55, 55, 54, 42, 51, 56, 55, 51, 54, 51, 60, 62, 43, 55, 56, 61, 52, 69, 64, 46, 54, 47, 70]\n",
    "\n",
    "heights_and_ages = heights + ages\n",
    "heights_and_ages_arr = np.array(heights_and_ages)\n",
    "heights_and_ages_arr = heights_and_ages_arr.reshape((2,45))\n",
    "print(heights_and_ages_arr[0, 0:3])"
   ]
  },
  {
   "cell_type": "markdown",
   "metadata": {},
   "source": [
    "We can omit index 0 when it's the starting point"
   ]
  },
  {
   "cell_type": "code",
   "execution_count": 16,
   "metadata": {},
   "outputs": [
    {
     "name": "stdout",
     "output_type": "stream",
     "text": [
      "[189 170 189]\n"
     ]
    }
   ],
   "source": [
    "import numpy as np\n",
    "\n",
    "heights = [189, 170, 189, 163, 183, 171, 185, 168, 173, 183, 173, 173, 175, 178, 183, 193, 178, 173, 174, 183, 183, 180, 168, 180, 170, 178, 182, 180, 183, 178, 182, 188, 175, 179, 183, 193, 182, 183, 177, 185, 188, 188, 182, 185, 191]\n",
    "\n",
    "ages = [57, 61, 57, 57, 58, 57, 61, 54, 68, 51, 49, 64, 50, 48, 65, 52, 56, 46, 54, 49, 51, 47, 55, 55, 54, 42, 51, 56, 55, 51, 54, 51, 60, 62, 43, 55, 56, 61, 52, 69, 64, 46, 54, 47, 70]\n",
    "\n",
    "heights_and_ages = heights + ages\n",
    "heights_and_ages_arr = np.array(heights_and_ages)\n",
    "heights_and_ages_arr = heights_and_ages_arr.reshape((2,45))\n",
    "print(heights_and_ages_arr[0, :3])"
   ]
  },
  {
   "cell_type": "markdown",
   "metadata": {},
   "source": [
    "Below code will print the entire 4th column"
   ]
  },
  {
   "cell_type": "code",
   "execution_count": 17,
   "metadata": {},
   "outputs": [
    {
     "name": "stdout",
     "output_type": "stream",
     "text": [
      "[163  57]\n"
     ]
    }
   ],
   "source": [
    "import numpy as np\n",
    "\n",
    "heights = [189, 170, 189, 163, 183, 171, 185, 168, 173, 183, 173, 173, 175, 178, 183, 193, 178, 173, 174, 183, 183, 180, 168, 180, 170, 178, 182, 180, 183, 178, 182, 188, 175, 179, 183, 193, 182, 183, 177, 185, 188, 188, 182, 185, 191]\n",
    "\n",
    "ages = [57, 61, 57, 57, 58, 57, 61, 54, 68, 51, 49, 64, 50, 48, 65, 52, 56, 46, 54, 49, 51, 47, 55, 55, 54, 42, 51, 56, 55, 51, 54, 51, 60, 62, 43, 55, 56, 61, 52, 69, 64, 46, 54, 47, 70]\n",
    "\n",
    "heights_and_ages = heights + ages\n",
    "heights_and_ages_arr = np.array(heights_and_ages)\n",
    "heights_and_ages_arr = heights_and_ages_arr.reshape((2,45))\n",
    "print(heights_and_ages_arr[:, 3])"
   ]
  },
  {
   "cell_type": "markdown",
   "metadata": {},
   "source": [
    "### Assigning Single Values\n"
   ]
  },
  {
   "cell_type": "code",
   "execution_count": 18,
   "metadata": {},
   "outputs": [
    {
     "name": "stdout",
     "output_type": "stream",
     "text": [
      "[189 170 189 165 183 171 185 168 173 183 173 173 175 178 183 193 178 173\n",
      " 174 183 183 180 168 180 170 178 182 180 183 178 182 188 175 179 183 193\n",
      " 182 183 177 185 188 188 182 185 191]\n"
     ]
    }
   ],
   "source": [
    "import numpy as np\n",
    "\n",
    "heights = [189, 170, 189, 163, 183, 171, 185, 168, 173, 183, 173, 173, 175, 178, 183, 193, 178, 173, 174, 183, 183, 180, 168, 180, 170, 178, 182, 180, 183, 178, 182, 188, 175, 179, 183, 193, 182, 183, 177, 185, 188, 188, 182, 185, 191]\n",
    "\n",
    "heights_arr = np.array(heights)\n",
    "heights_arr[3] = 165\n",
    "print(heights_arr)"
   ]
  },
  {
   "cell_type": "markdown",
   "metadata": {},
   "source": [
    "For 2d arrays, assign like this"
   ]
  },
  {
   "cell_type": "code",
   "execution_count": 19,
   "metadata": {},
   "outputs": [
    {
     "name": "stdout",
     "output_type": "stream",
     "text": [
      "[[189 170 189 165 183 171 185 168 173 183 173 173 175 178 183 193 178 173\n",
      "  174 183 183 180 168 180 170 178 182 180 183 178 182 188 175 179 183 193\n",
      "  182 183 177 185 188 188 182 185 191]\n",
      " [ 57  61  57  57  58  57  61  54  68  51  49  64  50  48  65  52  56  46\n",
      "   54  49  51  47  55  55  54  42  51  56  55  51  54  51  60  62  43  55\n",
      "   56  61  52  69  64  46  54  47  70]]\n"
     ]
    }
   ],
   "source": [
    "import numpy as np\n",
    "\n",
    "heights = [189, 170, 189, 163, 183, 171, 185, 168, 173, 183, 173, 173, 175, 178, 183, 193, 178, 173, 174, 183, 183, 180, 168, 180, 170, 178, 182, 180, 183, 178, 182, 188, 175, 179, 183, 193, 182, 183, 177, 185, 188, 188, 182, 185, 191]\n",
    "\n",
    "ages = [57, 61, 57, 57, 58, 57, 61, 54, 68, 51, 49, 64, 50, 48, 65, 52, 56, 46, 54, 49, 51, 47, 55, 55, 54, 42, 51, 56, 55, 51, 54, 51, 60, 62, 43, 55, 56, 61, 52, 69, 64, 46, 54, 47, 70]\n",
    "\n",
    "heights_and_ages = heights + ages \n",
    "heights_and_ages_arr = np.array(heights_and_ages)\n",
    "heights_and_ages_arr = heights_and_ages_arr.reshape((2,45))\n",
    "heights_and_ages_arr[0, 3] = 165\n",
    "print(heights_and_ages_arr)"
   ]
  },
  {
   "cell_type": "markdown",
   "metadata": {},
   "source": [
    "We can use slicing to replace multiple elements"
   ]
  },
  {
   "cell_type": "code",
   "execution_count": 20,
   "metadata": {},
   "outputs": [
    {
     "name": "stdout",
     "output_type": "stream",
     "text": [
      "[[180 180 180 180 180 180 180 180 180 180 180 180 180 180 180 180 180 180\n",
      "  180 180 180 180 180 180 180 180 180 180 180 180 180 180 180 180 180 180\n",
      "  180 180 180 180 180 180 180 180 180]\n",
      " [ 57  61  57  57  58  57  61  54  68  51  49  64  50  48  65  52  56  46\n",
      "   54  49  51  47  55  55  54  42  51  56  55  51  54  51  60  62  43  55\n",
      "   56  61  52  69  64  46  54  47  70]]\n"
     ]
    }
   ],
   "source": [
    "import numpy as np\n",
    "\n",
    "heights = [189, 170, 189, 163, 183, 171, 185, 168, 173, 183, 173, 173, 175, 178, 183, 193, 178, 173, 174, 183, 183, 180, 168, 180, 170, 178, 182, 180, 183, 178, 182, 188, 175, 179, 183, 193, 182, 183, 177, 185, 188, 188, 182, 185, 191]\n",
    "\n",
    "ages = [57, 61, 57, 57, 58, 57, 61, 54, 68, 51, 49, 64, 50, 48, 65, 52, 56, 46, 54, 49, 51, 47, 55, 55, 54, 42, 51, 56, 55, 51, 54, 51, 60, 62, 43, 55, 56, 61, 52, 69, 64, 46, 54, 47, 70]\n",
    "\n",
    "heights_and_ages = heights + ages \n",
    "heights_and_ages_arr = np.array(heights_and_ages)\n",
    "heights_and_ages_arr = heights_and_ages_arr.reshape((2,45))\n",
    "\n",
    "heights_and_ages_arr[0,:] = 180\n",
    "print(heights_and_ages_arr)"
   ]
  },
  {
   "cell_type": "markdown",
   "metadata": {},
   "source": [
    "We can combine slices "
   ]
  },
  {
   "cell_type": "code",
   "execution_count": 21,
   "metadata": {},
   "outputs": [
    {
     "name": "stdout",
     "output_type": "stream",
     "text": [
      "[[  0   0 189 163 183 171 185 168 173 183 173 173 175 178 183 193 178 173\n",
      "  174 183 183 180 168 180 170 178 182 180 183 178 182 188 175 179 183 193\n",
      "  182 183 177 185 188 188 182 185 191]\n",
      " [  0   0  57  57  58  57  61  54  68  51  49  64  50  48  65  52  56  46\n",
      "   54  49  51  47  55  55  54  42  51  56  55  51  54  51  60  62  43  55\n",
      "   56  61  52  69  64  46  54  47  70]]\n"
     ]
    }
   ],
   "source": [
    "import numpy as np\n",
    "\n",
    "heights = [189, 170, 189, 163, 183, 171, 185, 168, 173, 183, 173, 173, 175, 178, 183, 193, 178, 173, 174, 183, 183, 180, 168, 180, 170, 178, 182, 180, 183, 178, 182, 188, 175, 179, 183, 193, 182, 183, 177, 185, 188, 188, 182, 185, 191]\n",
    "\n",
    "ages = [57, 61, 57, 57, 58, 57, 61, 54, 68, 51, 49, 64, 50, 48, 65, 52, 56, 46, 54, 49, 51, 47, 55, 55, 54, 42, 51, 56, 55, 51, 54, 51, 60, 62, 43, 55, 56, 61, 52, 69, 64, 46, 54, 47, 70]\n",
    "\n",
    "heights_and_ages = heights + ages\n",
    "heights_and_ages_arr = np.array(heights_and_ages)\n",
    "heights_and_ages_arr = heights_and_ages_arr.reshape((2,45))\n",
    "\n",
    "heights_and_ages_arr[:2, :2] = 0\n",
    "print(heights_and_ages_arr)"
   ]
  },
  {
   "cell_type": "markdown",
   "metadata": {},
   "source": [
    "### Assigning an Array to an Array\n"
   ]
  },
  {
   "cell_type": "markdown",
   "metadata": {},
   "source": [
    "To assign, shapes must match"
   ]
  },
  {
   "cell_type": "code",
   "execution_count": 23,
   "metadata": {},
   "outputs": [
    {
     "name": "stdout",
     "output_type": "stream",
     "text": [
      "[[190 170 189 163 183 171 185 168 173 183 173 173 175 178 183 193 178 173\n",
      "  174 183 183 180 168 180 170 178 182 180 183 178 182 188 175 179 183 193\n",
      "  182 183 177 185 188 188 182 185 191]\n",
      " [ 58  61  57  57  58  57  61  54  68  51  49  64  50  48  65  52  56  46\n",
      "   54  49  51  47  55  55  54  42  51  56  55  51  54  51  60  62  43  55\n",
      "   56  61  52  69  64  46  54  47  70]]\n"
     ]
    }
   ],
   "source": [
    "import numpy as np\n",
    "\n",
    "heights = [189, 170, 189, 163, 183, 171, 185, 168, 173, 183, 173, 173, 175, 178, 183, 193, 178, 173, 174, 183, 183, 180, 168, 180, 170, 178, 182, 180, 183, 178, 182, 188, 175, 179, 183, 193, 182, 183, 177, 185, 188, 188, 182, 185, 191]\n",
    "\n",
    "ages = [57, 61, 57, 57, 58, 57, 61, 54, 68, 51, 49, 64, 50, 48, 65, 52, 56, 46, 54, 49, 51, 47, 55, 55, 54, 42, 51, 56, 55, 51, 54, 51, 60, 62, 43, 55, 56, 61, 52, 69, 64, 46, 54, 47, 70]\n",
    "\n",
    "heights_and_ages = heights + ages\n",
    "heights_and_ages_arr = np.array(heights_and_ages)\n",
    "heights_and_ages_arr = heights_and_ages_arr.reshape((2,45))\n",
    "\n",
    "heights_and_ages_arr[:, 0] = [190, 58]\n",
    "print(heights_and_ages_arr)"
   ]
  },
  {
   "cell_type": "markdown",
   "metadata": {},
   "source": [
    "We can assign an array to an array"
   ]
  },
  {
   "cell_type": "code",
   "execution_count": 25,
   "metadata": {},
   "outputs": [
    {
     "name": "stdout",
     "output_type": "stream",
     "text": [
      "[[189 170 189 163 183 171 185 168 173 183 173 173 175 178 183 193 178 173\n",
      "  174 183 183 180 168 180 170 178 182 180 183 178 182 188 175 179 183 193\n",
      "  182 183 177 185 188 188 180 183 190]\n",
      " [ 57  61  57  57  58  57  61  54  68  51  49  64  50  48  65  52  56  46\n",
      "   54  49  51  47  55  55  54  42  51  56  55  51  54  51  60  62  43  55\n",
      "   56  61  52  69  64  46  54  50  69]]\n"
     ]
    }
   ],
   "source": [
    "import numpy as np\n",
    "\n",
    "heights = [189, 170, 189, 163, 183, 171, 185, 168, 173, 183, 173, 173, 175, 178, 183, 193, 178, 173, 174, 183, 183, 180, 168, 180, 170, 178, 182, 180, 183, 178, 182, 188, 175, 179, 183, 193, 182, 183, 177, 185, 188, 188, 182, 185, 191]\n",
    "\n",
    "ages = [57, 61, 57, 57, 58, 57, 61, 54, 68, 51, 49, 64, 50, 48, 65, 52, 56, 46, 54, 49, 51, 47, 55, 55, 54, 42, 51, 56, 55, 51, 54, 51, 60, 62, 43, 55, 56, 61, 52, 69, 64, 46, 54, 47, 70]\n",
    "\n",
    "heights_and_ages = heights + ages\n",
    "heights_and_ages_arr = np.array(heights_and_ages)\n",
    "heights_and_ages_arr = heights_and_ages_arr.reshape((2,45))\n",
    "\n",
    "new_record = np.array([[180, 183, 190], [54, 50, 69]])\n",
    "heights_and_ages_arr[:, 42:] = new_record\n",
    "print(heights_and_ages_arr)"
   ]
  },
  {
   "cell_type": "markdown",
   "metadata": {},
   "source": [
    "### Combining Two Arrays\n",
    "We can use hstack to stack arrays horizontally by column"
   ]
  },
  {
   "cell_type": "code",
   "execution_count": 26,
   "metadata": {},
   "outputs": [
    {
     "name": "stdout",
     "output_type": "stream",
     "text": [
      "(45, 2)\n",
      "[[189  57]\n",
      " [170  61]\n",
      " [189  57]]\n"
     ]
    }
   ],
   "source": [
    "import numpy as np\n",
    "\n",
    "heights = [189, 170, 189, 163, 183, 171, 185, 168, 173, 183, 173, 173, 175, 178, 183, 193, 178, 173, 174, 183, 183, 180, 168, 180, 170, 178, 182, 180, 183, 178, 182, 188, 175, 179, 183, 193, 182, 183, 177, 185, 188, 188, 182, 185, 191]\n",
    "ages = [57, 61, 57, 57, 58, 57, 61, 54, 68, 51, 49, 64, 50, 48, 65, 52, 56, 46, 54, 49, 51, 47, 55, 55, 54, 42, 51, 56, 55, 51, 54, 51, 60, 62, 43, 55, 56, 61, 52, 69, 64, 46, 54, 47, 70]\n",
    "\n",
    "heights_arr = np.array(heights)\n",
    "ages_arr = np.array(ages)\n",
    "\n",
    "heights_arr = heights_arr.reshape((45,1))\n",
    "ages_arr = ages_arr.reshape((45,1))\n",
    "\n",
    "height_age_arr = np.hstack((heights_arr, ages_arr))\n",
    "print(height_age_arr.shape)\n",
    "print(height_age_arr[:3,])"
   ]
  },
  {
   "cell_type": "markdown",
   "metadata": {},
   "source": [
    "To combine arrays vertically by row, use vstack"
   ]
  },
  {
   "cell_type": "code",
   "execution_count": 27,
   "metadata": {},
   "outputs": [
    {
     "name": "stdout",
     "output_type": "stream",
     "text": [
      "(2, 45)\n",
      "[[189 170 189]\n",
      " [ 57  61  57]]\n"
     ]
    }
   ],
   "source": [
    "import numpy as np\n",
    "\n",
    "heights = [189, 170, 189, 163, 183, 171, 185, 168, 173, 183, 173, 173, 175, 178, 183, 193, 178, 173, 174, 183, 183, 180, 168, 180, 170, 178, 182, 180, 183, 178, 182, 188, 175, 179, 183, 193, 182, 183, 177, 185, 188, 188, 182, 185, 191]\n",
    "ages = [57, 61, 57, 57, 58, 57, 61, 54, 68, 51, 49, 64, 50, 48, 65, 52, 56, 46, 54, 49, 51, 47, 55, 55, 54, 42, 51, 56, 55, 51, 54, 51, 60, 62, 43, 55, 56, 61, 52, 69, 64, 46, 54, 47, 70]\n",
    "\n",
    "heights_arr = np.array(heights)\n",
    "ages_arr = np.array(ages)\n",
    "\n",
    "heights_arr = heights_arr.reshape((1,45))\n",
    "ages_arr = ages_arr.reshape((1,45))\n",
    "\n",
    "height_age_arr = np.vstack((heights_arr, ages_arr))\n",
    "print(height_age_arr.shape)\n",
    "print(height_age_arr[:,:3])"
   ]
  },
  {
   "cell_type": "markdown",
   "metadata": {},
   "source": [
    "### Concatenate"
   ]
  },
  {
   "cell_type": "markdown",
   "metadata": {},
   "source": [
    "concatenate with axis = 1 is similar to hstack while concatenate with axis = 0 is similar to vstack"
   ]
  },
  {
   "cell_type": "code",
   "execution_count": 28,
   "metadata": {},
   "outputs": [
    {
     "name": "stdout",
     "output_type": "stream",
     "text": [
      "(45, 2)\n",
      "[[189  57]\n",
      " [170  61]\n",
      " [189  57]]\n"
     ]
    }
   ],
   "source": [
    "import numpy as np\n",
    "\n",
    "heights = [189, 170, 189, 163, 183, 171, 185, 168, 173, 183, 173, 173, 175, 178, 183, 193, 178, 173, 174, 183, 183, 180, 168, 180, 170, 178, 182, 180, 183, 178, 182, 188, 175, 179, 183, 193, 182, 183, 177, 185, 188, 188, 182, 185, 191]\n",
    "ages = [57, 61, 57, 57, 58, 57, 61, 54, 68, 51, 49, 64, 50, 48, 65, 52, 56, 46, 54, 49, 51, 47, 55, 55, 54, 42, 51, 56, 55, 51, 54, 51, 60, 62, 43, 55, 56, 61, 52, 69, 64, 46, 54, 47, 70]\n",
    "\n",
    "heights_arr = np.array(heights)\n",
    "ages_arr = np.array(ages)\n",
    "\n",
    "heights_arr = heights_arr.reshape((45,1))\n",
    "ages_arr = ages_arr.reshape((45,1))\n",
    "\n",
    "# height_age_arr = np.hstack((heights_arr, ages_arr))\n",
    "height_age_arr = np.concatenate((heights_arr, ages_arr), axis=1)\n",
    "\n",
    "print(height_age_arr.shape)\n",
    "print(height_age_arr[:3,:])"
   ]
  },
  {
   "cell_type": "code",
   "execution_count": 29,
   "metadata": {},
   "outputs": [
    {
     "name": "stdout",
     "output_type": "stream",
     "text": [
      "(2, 45)\n",
      "[[189 170 189]\n",
      " [ 57  61  57]]\n"
     ]
    }
   ],
   "source": [
    "import numpy as np\n",
    "\n",
    "heights = [189, 170, 189, 163, 183, 171, 185, 168, 173, 183, 173, 173, 175, 178, 183, 193, 178, 173, 174, 183, 183, 180, 168, 180, 170, 178, 182, 180, 183, 178, 182, 188, 175, 179, 183, 193, 182, 183, 177, 185, 188, 188, 182, 185, 191]\n",
    "ages = [57, 61, 57, 57, 58, 57, 61, 54, 68, 51, 49, 64, 50, 48, 65, 52, 56, 46, 54, 49, 51, 47, 55, 55, 54, 42, 51, 56, 55, 51, 54, 51, 60, 62, 43, 55, 56, 61, 52, 69, 64, 46, 54, 47, 70]\n",
    "\n",
    "heights_arr = np.array(heights)\n",
    "ages_arr = np.array(ages)\n",
    "\n",
    "heights_arr = heights_arr.reshape((1,45))\n",
    "ages_arr = ages_arr.reshape((1,45))\n",
    "\n",
    "#height_age_arr = np.vstack((heights_arr, ages_arr))\n",
    "height_age_arr = np.concatenate((heights_arr, ages_arr), axis=0)\n",
    "\n",
    "print(height_age_arr.shape)\n",
    "print(height_age_arr[:,:3])"
   ]
  },
  {
   "cell_type": "markdown",
   "metadata": {},
   "source": [
    "hstack works only if they have same number of rows"
   ]
  },
  {
   "cell_type": "markdown",
   "metadata": {},
   "source": [
    "### Mathematical Operations on Arrays\n",
    "Here, let's convert cm to feet"
   ]
  },
  {
   "cell_type": "code",
   "execution_count": 31,
   "metadata": {},
   "outputs": [
    {
     "name": "stdout",
     "output_type": "stream",
     "text": [
      "[6.2007876 5.577428  6.2007876 5.3477692 6.0039372 5.6102364 6.069554\n",
      " 5.5118112 5.6758532 6.0039372 5.6758532 5.6758532 5.74147   5.8398952\n",
      " 6.0039372 6.3320212 5.8398952 5.6758532 5.7086616 6.0039372 6.0039372\n",
      " 5.905512  5.5118112 5.905512  5.577428  5.8398952 5.9711288 5.905512\n",
      " 6.0039372 5.8398952 5.9711288 6.1679792 5.74147   5.8727036 6.0039372\n",
      " 6.3320212 5.9711288 6.0039372 5.8070868 6.069554  6.1679792 6.1679792\n",
      " 5.9711288 6.069554  6.2664044]\n"
     ]
    }
   ],
   "source": [
    "import numpy as np\n",
    "\n",
    "heights_arr = np.array([189, 170, 189, 163, 183, 171, 185, 168, 173, 183, 173, 173, 175, 178, 183, 193, 178, 173, 174, 183, 183, 180, 168, 180, 170, 178, 182, 180, 183, 178, 182, 188, 175, 179, 183, 193, 182, 183, 177, 185, 188, 188, 182, 185, 191])\n",
    "ages_arr = np.array([57, 61, 57, 57, 58, 57, 61, 54, 68, 51, 49, 64, 50, 48, 65, 52, 56, 46, 54, 49, 51, 47, 55, 55, 54, 42, 51, 56, 55, 51, 54, 51, 60, 62, 43, 55, 56, 61, 52, 69, 64, 46, 54, 47, 70])\n",
    "\n",
    "heights_arr = heights_arr.reshape((45,1))\n",
    "ages_arr = ages_arr.reshape(-1,1)\n",
    "height_age_arr = np.hstack((heights_arr, ages_arr))\n",
    "\n",
    "print(height_age_arr[:,0]*0.0328084)"
   ]
  },
  {
   "cell_type": "markdown",
   "metadata": {},
   "source": [
    "Note that this operation won't change anything in the original array. This returns a 1d array converted to feet. +, -, /, ** also work the same way"
   ]
  },
  {
   "cell_type": "markdown",
   "metadata": {},
   "source": [
    "### Numpy Array Method\n",
    "These are used to perform more complex calculations. sum() is used to find sum of all elements"
   ]
  },
  {
   "cell_type": "code",
   "execution_count": 32,
   "metadata": {},
   "outputs": [
    {
     "name": "stdout",
     "output_type": "stream",
     "text": [
      "10575\n"
     ]
    }
   ],
   "source": [
    "import numpy as np\n",
    "\n",
    "heights_arr = np.array([189, 170, 189, 163, 183, 171, 185, 168, 173, 183, 173, 173, 175, 178, 183, 193, 178, 173, 174, 183, 183, 180, 168, 180, 170, 178, 182, 180, 183, 178, 182, 188, 175, 179, 183, 193, 182, 183, 177, 185, 188, 188, 182, 185, 191])\n",
    "ages_arr = np.array([57, 61, 57, 57, 58, 57, 61, 54, 68, 51, 49, 64, 50, 48, 65, 52, 56, 46, 54, 49, 51, 47, 55, 55, 54, 42, 51, 56, 55, 51, 54, 51, 60, 62, 43, 55, 56, 61, 52, 69, 64, 46, 54, 47, 70]).reshape((-1,1))\n",
    "\n",
    "heights_arr = heights_arr.reshape((45,1))\n",
    "height_age_arr = np.hstack((heights_arr, ages_arr))\n",
    "\n",
    "print(height_age_arr.sum())"
   ]
  },
  {
   "cell_type": "markdown",
   "metadata": {},
   "source": [
    "This is the sum of all heights and ages. To find them seperately use axis attribute"
   ]
  },
  {
   "cell_type": "code",
   "execution_count": 33,
   "metadata": {},
   "outputs": [
    {
     "name": "stdout",
     "output_type": "stream",
     "text": [
      "[8100 2475]\n"
     ]
    }
   ],
   "source": [
    "import numpy as np\n",
    "\n",
    "heights_arr = np.array([189, 170, 189, 163, 183, 171, 185, 168, 173, 183, 173, 173, 175, 178, 183, 193, 178, 173, 174, 183, 183, 180, 168, 180, 170, 178, 182, 180, 183, 178, 182, 188, 175, 179, 183, 193, 182, 183, 177, 185, 188, 188, 182, 185, 191])\n",
    "ages_arr = np.array([57, 61, 57, 57, 58, 57, 61, 54, 68, 51, 49, 64, 50, 48, 65, 52, 56, 46, 54, 49, 51, 47, 55, 55, 54, 42, 51, 56, 55, 51, 54, 51, 60, 62, 43, 55, 56, 61, 52, 69, 64, 46, 54, 47, 70]).reshape((-1,1))\n",
    "\n",
    "heights_arr = heights_arr.reshape((45,1))\n",
    "height_age_arr = np.hstack((heights_arr, ages_arr))\n",
    "\n",
    "print(height_age_arr.sum(axis=0))"
   ]
  },
  {
   "cell_type": "markdown",
   "metadata": {},
   "source": [
    "axis = 0 calculates column sum and axis = 1 calculates row sum<br>\n",
    "Other operations such as .min(), .max(), .mean() work similarly"
   ]
  },
  {
   "cell_type": "markdown",
   "metadata": {},
   "source": [
    "### Comparisons\n",
    "We can use >, <, >=, <=, == for comparisons"
   ]
  },
  {
   "cell_type": "code",
   "execution_count": 41,
   "metadata": {},
   "outputs": [
    {
     "name": "stdout",
     "output_type": "stream",
     "text": [
      "[False False False False False False False  True False  True  True False\n",
      "  True  True False  True False  True  True  True  True  True False False\n",
      "  True  True  True False False  True  True  True False False  True False\n",
      " False False  True False False  True  True  True False]\n"
     ]
    }
   ],
   "source": [
    "import numpy as np\n",
    "\n",
    "heights_arr = np.array([189, 170, 189, 163, 183, 171, 185, 168, 173, 183, 173, 173, 175, 178, 183, 193, 178, 173, 174, 183, 183, 180, 168, 180, 170, 178, 182, 180, 183, 178, 182, 188, 175, 179, 183, 193, 182, 183, 177, 185, 188, 188, 182, 185, 191])\n",
    "ages_arr = np.array([57, 61, 57, 57, 58, 57, 61, 54, 68, 51, 49, 64, 50, 48, 65, 52, 56, 46, 54, 49, 51, 47, 55, 55, 54, 42, 51, 56, 55, 51, 54, 51, 60, 62, 43, 55, 56, 61, 52, 69, 64, 46, 54, 47, 70]).reshape((-1,1))\n",
    "\n",
    "heights_arr = heights_arr.reshape((45,1))\n",
    "height_age_arr = np.hstack((heights_arr, ages_arr))\n",
    "\n",
    "print(height_age_arr[:, 1] < 55)"
   ]
  },
  {
   "cell_type": "markdown",
   "metadata": {},
   "source": [
    "The output is a 1d array"
   ]
  },
  {
   "cell_type": "code",
   "execution_count": 42,
   "metadata": {},
   "outputs": [
    {
     "name": "stdout",
     "output_type": "stream",
     "text": [
      "[False False False False False False False False False  True False False\n",
      " False False False False False False False False  True False False False\n",
      " False False  True False False  True False  True False False False False\n",
      " False False False False False False False False False]\n"
     ]
    }
   ],
   "source": [
    "import numpy as np\n",
    "\n",
    "heights_arr = np.array([189, 170, 189, 163, 183, 171, 185, 168, 173, 183, 173, 173, 175, 178, 183, 193, 178, 173, 174, 183, 183, 180, 168, 180, 170, 178, 182, 180, 183, 178, 182, 188, 175, 179, 183, 193, 182, 183, 177, 185, 188, 188, 182, 185, 191])\n",
    "ages_arr = np.array([57, 61, 57, 57, 58, 57, 61, 54, 68, 51, 49, 64, 50, 48, 65, 52, 56, 46, 54, 49, 51, 47, 55, 55, 54, 42, 51, 56, 55, 51, 54, 51, 60, 62, 43, 55, 56, 61, 52, 69, 64, 46, 54, 47, 70]).reshape((-1,1))\n",
    "\n",
    "heights_arr = heights_arr.reshape((45,1))\n",
    "height_age_arr = np.hstack((heights_arr, ages_arr))\n",
    "\n",
    "print(height_age_arr[:, 1] == 51)"
   ]
  },
  {
   "cell_type": "markdown",
   "metadata": {},
   "source": [
    "To count how many elements satisfy the condition, use .sum() for the resultant array"
   ]
  },
  {
   "cell_type": "code",
   "execution_count": 43,
   "metadata": {},
   "outputs": [
    {
     "name": "stdout",
     "output_type": "stream",
     "text": [
      "5\n"
     ]
    }
   ],
   "source": [
    "import numpy as np\n",
    "\n",
    "heights_arr = np.array([189, 170, 189, 163, 183, 171, 185, 168, 173, 183, 173, 173, 175, 178, 183, 193, 178, 173, 174, 183, 183, 180, 168, 180, 170, 178, 182, 180, 183, 178, 182, 188, 175, 179, 183, 193, 182, 183, 177, 185, 188, 188, 182, 185, 191])\n",
    "ages_arr = np.array([57, 61, 57, 57, 58, 57, 61, 54, 68, 51, 49, 64, 50, 48, 65, 52, 56, 46, 54, 49, 51, 47, 55, 55, 54, 42, 51, 56, 55, 51, 54, 51, 60, 62, 43, 55, 56, 61, 52, 69, 64, 46, 54, 47, 70]).reshape((-1,1))\n",
    "\n",
    "heights_arr = heights_arr.reshape((45,1))\n",
    "height_age_arr = np.hstack((heights_arr, ages_arr))\n",
    "\n",
    "print((height_age_arr[:, 1] == 51).sum())"
   ]
  },
  {
   "cell_type": "markdown",
   "metadata": {},
   "source": [
    "### Mask and Subsetting\n"
   ]
  },
  {
   "cell_type": "code",
   "execution_count": 44,
   "metadata": {},
   "outputs": [
    {
     "name": "stdout",
     "output_type": "stream",
     "text": [
      "23\n"
     ]
    }
   ],
   "source": [
    "import numpy as np\n",
    "\n",
    "heights_arr = np.array([189, 170, 189, 163, 183, 171, 185, 168, 173, 183, 173, 173, 175, 178, 183, 193, 178, 173, 174, 183, 183, 180, 168, 180, 170, 178, 182, 180, 183, 178, 182, 188, 175, 179, 183, 193, 182, 183, 177, 185, 188, 188, 182, 185, 191])\n",
    "ages_arr = np.array([57, 61, 57, 57, 58, 57, 61, 54, 68, 51, 49, 64, 50, 48, 65, 52, 56, 46, 54, 49, 51, 47, 55, 55, 54, 42, 51, 56, 55, 51, 54, 51, 60, 62, 43, 55, 56, 61, 52, 69, 64, 46, 54, 47, 70]).reshape((-1,1))\n",
    "\n",
    "heights_arr = heights_arr.reshape((45,1))\n",
    "height_age_arr = np.hstack((heights_arr, ages_arr))\n",
    "\n",
    "mask = height_age_arr[:, 0] >= 182\n",
    "print(mask.sum())"
   ]
  },
  {
   "cell_type": "markdown",
   "metadata": {},
   "source": [
    "We can use the mask to filter data from dataset"
   ]
  },
  {
   "cell_type": "code",
   "execution_count": 52,
   "metadata": {},
   "outputs": [
    {
     "name": "stdout",
     "output_type": "stream",
     "text": [
      "(23, 2)\n"
     ]
    }
   ],
   "source": [
    "import numpy as np\n",
    "\n",
    "heights_arr = np.array([189, 170, 189, 163, 183, 171, 185, 168, 173, 183, 173, 173, 175, 178, 183, 193, 178, 173, 174, 183, 183, 180, 168, 180, 170, 178, 182, 180, 183, 178, 182, 188, 175, 179, 183, 193, 182, 183, 177, 185, 188, 188, 182, 185, 191])\n",
    "ages_arr = np.array([57, 61, 57, 57, 58, 57, 61, 54, 68, 51, 49, 64, 50, 48, 65, 52, 56, 46, 54, 49, 51, 47, 55, 55, 54, 42, 51, 56, 55, 51, 54, 51, 60, 62, 43, 55, 56, 61, 52, 69, 64, 46, 54, 47, 70]).reshape((-1,1))\n",
    "\n",
    "heights_arr = heights_arr.reshape((45,1))\n",
    "height_age_arr = np.hstack((heights_arr, ages_arr))\n",
    "\n",
    "mask = height_age_arr[:, 0] >= 182\n",
    "tall_presidents = height_age_arr[mask,]\n",
    "\n",
    "print(tall_presidents.shape)"
   ]
  },
  {
   "cell_type": "markdown",
   "metadata": {},
   "source": [
    "### Multiple Criteria\n",
    "Mask can be created to satisfy multiple criteria. "
   ]
  },
  {
   "cell_type": "code",
   "execution_count": 55,
   "metadata": {},
   "outputs": [
    {
     "name": "stdout",
     "output_type": "stream",
     "text": [
      "[[183  49]\n",
      " [183  43]\n",
      " [188  46]\n",
      " [185  47]]\n"
     ]
    }
   ],
   "source": [
    "import numpy as np\n",
    "\n",
    "heights_arr = np.array([189, 170, 189, 163, 183, 171, 185, 168, 173, 183, 173, 173, 175, 178, 183, 193, 178, 173, 174, 183, 183, 180, 168, 180, 170, 178, 182, 180, 183, 178, 182, 188, 175, 179, 183, 193, 182, 183, 177, 185, 188, 188, 182, 185, 191])\n",
    "ages_arr = np.array([57, 61, 57, 57, 58, 57, 61, 54, 68, 51, 49, 64, 50, 48, 65, 52, 56, 46, 54, 49, 51, 47, 55, 55, 54, 42, 51, 56, 55, 51, 54, 51, 60, 62, 43, 55, 56, 61, 52, 69, 64, 46, 54, 47, 70]).reshape((-1,1))\n",
    "\n",
    "heights_arr = heights_arr.reshape((45,1))\n",
    "height_age_arr = np.hstack((heights_arr, ages_arr))\n",
    "\n",
    "mask = (height_age_arr[:, 0]>=182) & (height_age_arr[:,1]<=50)\n",
    "\n",
    "print(height_age_arr[mask,])"
   ]
  },
  {
   "cell_type": "markdown",
   "metadata": {},
   "source": [
    "### Pandas \n",
    "Pandas is built on numpy\n",
    "### Series\n",
    "Series is a 1d array that can hold any type of data. The axis labels are called index"
   ]
  },
  {
   "cell_type": "code",
   "execution_count": 1,
   "metadata": {},
   "outputs": [
    {
     "name": "stdout",
     "output_type": "stream",
     "text": [
      "a    1\n",
      "b    2\n",
      "c    3\n",
      "dtype: int64\n"
     ]
    }
   ],
   "source": [
    "import pandas as pd\n",
    "\n",
    "print(pd.Series([1, 2, 3], index=['a', 'b', 'c'])) # with index"
   ]
  },
  {
   "cell_type": "markdown",
   "metadata": {},
   "source": [
    "The values can be a numpy array"
   ]
  },
  {
   "cell_type": "code",
   "execution_count": 2,
   "metadata": {},
   "outputs": [
    {
     "name": "stdout",
     "output_type": "stream",
     "text": [
      "a    1\n",
      "b    2\n",
      "c    3\n",
      "dtype: int32\n"
     ]
    }
   ],
   "source": [
    "import numpy as np\n",
    "import pandas as pd\n",
    "\n",
    "print(pd.Series(np.array([1, 2, 3]), index=['a', 'b', 'c'])) # from a 1darray"
   ]
  },
  {
   "cell_type": "markdown",
   "metadata": {},
   "source": [
    "We can also use a dictionary"
   ]
  },
  {
   "cell_type": "code",
   "execution_count": 3,
   "metadata": {},
   "outputs": [
    {
     "name": "stdout",
     "output_type": "stream",
     "text": [
      "a    1\n",
      "b    2\n",
      "c    3\n",
      "dtype: int64\n"
     ]
    }
   ],
   "source": [
    "import pandas as pd\n",
    "\n",
    "print(pd.Series({'a': 1, 'b': 2, 'c':3})) # from a dict"
   ]
  },
  {
   "cell_type": "markdown",
   "metadata": {},
   "source": [
    "Default indexes starts from 0. We can access data using index"
   ]
  },
  {
   "cell_type": "code",
   "execution_count": 4,
   "metadata": {},
   "outputs": [
    {
     "name": "stdout",
     "output_type": "stream",
     "text": [
      "1\n"
     ]
    }
   ],
   "source": [
    "import pandas as pd\n",
    "\n",
    "series = pd.Series({'a': 1, 'b': 2, 'c':3})\n",
    "print(series['a'])"
   ]
  },
  {
   "cell_type": "markdown",
   "metadata": {},
   "source": [
    "### Pandas DataFrames - Shape and Size\n",
    "To get dimensions of a dataframe use .shape"
   ]
  }
 ],
 "metadata": {
  "kernelspec": {
   "display_name": "Python 3.10.5 64-bit",
   "language": "python",
   "name": "python3"
  },
  "language_info": {
   "codemirror_mode": {
    "name": "ipython",
    "version": 3
   },
   "file_extension": ".py",
   "mimetype": "text/x-python",
   "name": "python",
   "nbconvert_exporter": "python",
   "pygments_lexer": "ipython3",
   "version": "3.10.5"
  },
  "orig_nbformat": 4,
  "vscode": {
   "interpreter": {
    "hash": "a29360cb1ef4765612ef6cde7c85a613016b0e56e7752f09e1e6610f9dd02e85"
   }
  }
 },
 "nbformat": 4,
 "nbformat_minor": 2
}
